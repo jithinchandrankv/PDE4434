{
 "cells": [
  {
   "cell_type": "code",
   "execution_count": 1,
   "id": "8b6d33b5",
   "metadata": {},
   "outputs": [],
   "source": [
    "# import the required libraries\n",
    "import PIL # python image library\n",
    "import PIL.Image\n",
    "import tensorflow as tf\n",
    "import pathlib # to manage the dataset path"
   ]
  },
  {
   "cell_type": "code",
   "execution_count": 4,
   "id": "a6c1e8fa",
   "metadata": {},
   "outputs": [
    {
     "name": "stdout",
     "output_type": "stream",
     "text": [
      "C:\\Users\\jithu\\Documents\\GitHub\\PDE4434\\UNO\n",
      "252\n"
     ]
    }
   ],
   "source": [
    "# define the data path to access the dataset\n",
    "data_dir = pathlib.Path('C:/Users/jithu/Documents/GitHub/PDE4434/UNO')\n",
    "print(data_dir)\n",
    "# print the number of images in the dataset\n",
    "image_count = len(list(data_dir.glob('*/*.jpeg')))\n",
    "print(image_count)"
   ]
  },
  {
   "cell_type": "code",
   "execution_count": 5,
   "id": "623a03da",
   "metadata": {},
   "outputs": [
    {
     "name": "stdout",
     "output_type": "stream",
     "text": [
      "Found 252 files belonging to 50 classes.\n",
      "Using 177 files for training.\n",
      "Found 252 files belonging to 50 classes.\n",
      "Using 75 files for validation.\n"
     ]
    }
   ],
   "source": [
    "# split into train and test datasets with following parameters\n",
    "batch_size = 6\n",
    "img_height = 244\n",
    "img_width = 244\n",
    "\n",
    "# image size: Size to resize images to after they are read from disk\n",
    "# batch_size: Size of the batches of data.If None, the data will not be batched (the dataset will yield individual samples).\n",
    "# Seed : Optional random seed for shuffling .\n",
    "# validation_split: Optional float between 0 and 1, fraction of data to reserve for validation\n",
    "# subset: One of \"training\" or \"validation\". Only used if validation_split is set\n",
    "# class_names: This is the explicit list of class names (must match names of subdirectories).\n",
    "\n",
    "# train data\n",
    "train_ds = tf.keras.preprocessing.image_dataset_from_directory(\n",
    "  data_dir,\n",
    "  validation_split=0.3,\n",
    "  subset=\"training\",\n",
    "  seed=123,\n",
    "  image_size=(img_height, img_width),\n",
    "  batch_size=batch_size)\n",
    "\n",
    "#test data\n",
    "val_ds = tf.keras.preprocessing.image_dataset_from_directory(\n",
    "  data_dir,\n",
    "  validation_split=0.3,\n",
    "  subset=\"validation\",\n",
    "  seed=123,\n",
    "  image_size=(img_height, img_width),\n",
    "  batch_size=batch_size)"
   ]
  },
  {
   "cell_type": "code",
   "execution_count": 6,
   "id": "ef37d1d0",
   "metadata": {
    "scrolled": false
   },
   "outputs": [],
   "source": [
    "num_classes = 50 # number of labels (classes) in or dataset\n",
    "\n",
    "# class Rescaling: A preprocessing layer which rescales input values to a new range\n",
    "# used ot normalise the image pixel values to be between 0 and 1. \n",
    "\n",
    "# # Flatten(): reshapes the tensor to have a shape that is equal to the number\n",
    "## of elements contained in the tensor. This is the same thing as making a 1d-array of elements\n",
    "model = tf.keras.Sequential([\n",
    "  tf.keras.layers.experimental.preprocessing.Rescaling(1./255),\n",
    "  tf.keras.layers.Conv2D(16, 3, activation='relu'),\n",
    "  tf.keras.layers.MaxPooling2D(),\n",
    "  tf.keras.layers.Conv2D(16, 3, activation='relu'),\n",
    "  tf.keras.layers.MaxPooling2D(),\n",
    "  tf.keras.layers.Conv2D(16, 3, activation='relu'),\n",
    "  tf.keras.layers.MaxPooling2D(),\n",
    "  tf.keras.layers.Flatten(), \n",
    "  tf.keras.layers.Dense(128, activation='relu'),\n",
    "  tf.keras.layers.Dense(num_classes)\n",
    "])"
   ]
  },
  {
   "cell_type": "code",
   "execution_count": null,
   "id": "8a607f02",
   "metadata": {},
   "outputs": [],
   "source": []
  },
  {
   "cell_type": "code",
   "execution_count": 8,
   "id": "24de5ca6",
   "metadata": {},
   "outputs": [],
   "source": [
    "model.compile(\n",
    "  optimizer='adam',\n",
    "    loss=tf.losses.SparseCategoricalCrossentropy(from_logits=True),\n",
    "  metrics=['accuracy'])"
   ]
  },
  {
   "cell_type": "code",
   "execution_count": 9,
   "id": "e6227b83",
   "metadata": {},
   "outputs": [
    {
     "name": "stdout",
     "output_type": "stream",
     "text": [
      "Epoch 1/10\n",
      "30/30 [==============================] - 7s 170ms/step - loss: 3.9431 - accuracy: 0.0113 - val_loss: 3.9174 - val_accuracy: 0.0000e+00\n",
      "Epoch 2/10\n",
      "30/30 [==============================] - 5s 158ms/step - loss: 3.8185 - accuracy: 0.1356 - val_loss: 3.9724 - val_accuracy: 0.0133\n",
      "Epoch 3/10\n",
      "30/30 [==============================] - 5s 163ms/step - loss: 2.9221 - accuracy: 0.2486 - val_loss: 4.6227 - val_accuracy: 0.0133\n",
      "Epoch 4/10\n",
      "30/30 [==============================] - 5s 165ms/step - loss: 1.1909 - accuracy: 0.6384 - val_loss: 5.6159 - val_accuracy: 0.0133\n",
      "Epoch 5/10\n",
      "30/30 [==============================] - 5s 158ms/step - loss: 0.4547 - accuracy: 0.8814 - val_loss: 8.2386 - val_accuracy: 0.0267\n",
      "Epoch 6/10\n",
      "30/30 [==============================] - 5s 158ms/step - loss: 0.2052 - accuracy: 0.9548 - val_loss: 8.1398 - val_accuracy: 0.0133\n",
      "Epoch 7/10\n",
      "30/30 [==============================] - 5s 158ms/step - loss: 0.1210 - accuracy: 0.9831 - val_loss: 7.9848 - val_accuracy: 0.0267\n",
      "Epoch 8/10\n",
      "30/30 [==============================] - 5s 159ms/step - loss: 0.0820 - accuracy: 0.9887 - val_loss: 8.0897 - val_accuracy: 0.0133\n",
      "Epoch 9/10\n",
      "30/30 [==============================] - 5s 166ms/step - loss: 0.0353 - accuracy: 0.9887 - val_loss: 8.3615 - val_accuracy: 0.0267\n",
      "Epoch 10/10\n",
      "30/30 [==============================] - 5s 161ms/step - loss: 0.0029 - accuracy: 1.0000 - val_loss: 8.8834 - val_accuracy: 0.0267\n"
     ]
    },
    {
     "data": {
      "text/plain": [
       "<keras.callbacks.History at 0x1b87f1d92b0>"
      ]
     },
     "execution_count": 9,
     "metadata": {},
     "output_type": "execute_result"
    }
   ],
   "source": [
    "#train the model\n",
    "model.fit(\n",
    "  train_ds,\n",
    "  validation_data=val_ds,\n",
    "  epochs=10\n",
    ")"
   ]
  },
  {
   "cell_type": "code",
   "execution_count": 10,
   "id": "7994d8e8",
   "metadata": {},
   "outputs": [
    {
     "name": "stdout",
     "output_type": "stream",
     "text": [
      "13/13 [==============================] - 1s 34ms/step - loss: 8.8834 - accuracy: 0.0267\n"
     ]
    },
    {
     "data": {
      "text/plain": [
       "[8.88344669342041, 0.02666666731238365]"
      ]
     },
     "execution_count": 10,
     "metadata": {},
     "output_type": "execute_result"
    }
   ],
   "source": [
    "# test using the test dataset\n",
    "model.evaluate(\n",
    "  val_ds\n",
    "  \n",
    ")"
   ]
  },
  {
   "cell_type": "code",
   "execution_count": 11,
   "id": "a6396094",
   "metadata": {},
   "outputs": [
    {
     "name": "stdout",
     "output_type": "stream",
     "text": [
      "Model: \"sequential\"\n",
      "_________________________________________________________________\n",
      " Layer (type)                Output Shape              Param #   \n",
      "=================================================================\n",
      " rescaling (Rescaling)       (None, 244, 244, 3)       0         \n",
      "                                                                 \n",
      " conv2d (Conv2D)             (None, 242, 242, 16)      448       \n",
      "                                                                 \n",
      " max_pooling2d (MaxPooling2D  (None, 121, 121, 16)     0         \n",
      " )                                                               \n",
      "                                                                 \n",
      " conv2d_1 (Conv2D)           (None, 119, 119, 16)      2320      \n",
      "                                                                 \n",
      " max_pooling2d_1 (MaxPooling  (None, 59, 59, 16)       0         \n",
      " 2D)                                                             \n",
      "                                                                 \n",
      " conv2d_2 (Conv2D)           (None, 57, 57, 16)        2320      \n",
      "                                                                 \n",
      " max_pooling2d_2 (MaxPooling  (None, 28, 28, 16)       0         \n",
      " 2D)                                                             \n",
      "                                                                 \n",
      " flatten (Flatten)           (None, 12544)             0         \n",
      "                                                                 \n",
      " dense (Dense)               (None, 128)               1605760   \n",
      "                                                                 \n",
      " dense_1 (Dense)             (None, 50)                6450      \n",
      "                                                                 \n",
      "=================================================================\n",
      "Total params: 1,617,298\n",
      "Trainable params: 1,617,298\n",
      "Non-trainable params: 0\n",
      "_________________________________________________________________\n"
     ]
    }
   ],
   "source": [
    "model.summary()"
   ]
  },
  {
   "cell_type": "code",
   "execution_count": 12,
   "id": "211e9cda",
   "metadata": {},
   "outputs": [],
   "source": [
    "model.save(\"uno-cnn.h5\")"
   ]
  },
  {
   "cell_type": "code",
   "execution_count": 13,
   "id": "07ed7e4e",
   "metadata": {},
   "outputs": [
    {
     "name": "stdout",
     "output_type": "stream",
     "text": [
      "['Blue 1', 'Blue 2', 'Blue 3', 'Blue 4', 'Blue 5', 'Blue 6', 'Blue 7', 'Blue 8', 'Blue 9', 'Blue Draw 2', 'Blue reverse', 'Blue skip', 'Green 1', 'Green 2', 'Green 3', 'Green 4', 'Green 5', 'Green 6', 'Green 7', 'Green 8', 'Green 9', 'Green Draw 2', 'Green reverse', 'Green skip', 'Red 1', 'Red 2', 'Red 3', 'Red 4', 'Red 5', 'Red 6', 'Red 7', 'Red 8', 'Red 9', 'Red Reverse', 'Red Skip', 'Red draw 2', 'Wild card', 'Wild card draw 4', 'Yellow 1', 'Yellow 2', 'Yellow 3', 'Yellow 4', 'Yellow 5', 'Yellow 6', 'Yellow 7', 'Yellow 8', 'Yellow 9', 'Yellow Draw 2', 'Yellow Skip', 'Yellow reverse']\n"
     ]
    }
   ],
   "source": [
    "print(train_ds.class_names)"
   ]
  },
  {
   "cell_type": "code",
   "execution_count": null,
   "id": "386c9445",
   "metadata": {},
   "outputs": [],
   "source": []
  }
 ],
 "metadata": {
  "kernelspec": {
   "display_name": "Python 3 (ipykernel)",
   "language": "python",
   "name": "python3"
  },
  "language_info": {
   "codemirror_mode": {
    "name": "ipython",
    "version": 3
   },
   "file_extension": ".py",
   "mimetype": "text/x-python",
   "name": "python",
   "nbconvert_exporter": "python",
   "pygments_lexer": "ipython3",
   "version": "3.7.3"
  }
 },
 "nbformat": 4,
 "nbformat_minor": 5
}
