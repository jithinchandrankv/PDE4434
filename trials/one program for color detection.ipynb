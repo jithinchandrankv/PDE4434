{
 "cells": [
  {
   "cell_type": "code",
   "execution_count": null,
   "metadata": {},
   "outputs": [],
   "source": [
    "import cv2\n",
    "import numpy as np\n",
    "\n",
    "# Read the image and convert it to the HSV color space\n",
    "image = cv2.imread('C:/Users/jithu/Desktop/uno 123/blue/Blue1.jpeg')\n",
    "hsv_image = cv2.cvtColor(image, cv2.COLOR_BGR2HSV)\n",
    "\n",
    "# Define the color ranges for each of the cards\n",
    "color_ranges = {\n",
    "    'blue': ((90, 100, 100), (130, 255, 255)),\n",
    "    'green': ((40, 100, 100), (80, 255, 255)),\n",
    "    'yellow': ((20, 100, 100), (40, 255, 255)),\n",
    "    'red': ((0, 100, 100), (20, 255, 255))\n",
    "}\n",
    "\n",
    "# Iterate through each color range and find the pixels within that range\n",
    "for color, (lower, upper) in color_ranges.items():\n",
    "    mask = cv2.inRange(hsv_image, np.array(lower), np.array(upper))\n",
    "    count = cv2.countNonZero(mask)\n",
    "    \n",
    "    # Print the color of the card if enough pixels are detected in the range\n",
    "    if count > 100:\n",
    "        print(f\"The card is {color}\")\n",
    "        break"
   ]
  }
 ],
 "metadata": {
  "kernelspec": {
   "display_name": "Python 3",
   "language": "python",
   "name": "python3"
  },
  "language_info": {
   "name": "python",
   "version": "3.7.3"
  },
  "orig_nbformat": 4
 },
 "nbformat": 4,
 "nbformat_minor": 2
}
