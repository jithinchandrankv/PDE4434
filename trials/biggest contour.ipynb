{
 "cells": [
  {
   "cell_type": "code",
   "execution_count": 1,
   "metadata": {},
   "outputs": [],
   "source": [
    "from PIL import Image\n",
    "\n",
    "# open the image\n",
    "image = Image.open(\"C:/Users/jithu/Desktop/pde4434/DATASET/RED 1/Red 1_60.jpeg\")\n",
    "\n",
    "# set the dimensions of the area to be cropped\n",
    "left = 300\n",
    "top = 100\n",
    "right = 500\n",
    "bottom = 200\n",
    "\n",
    "# crop the image\n",
    "cropped_image = image.crop((left, top, right, bottom))\n",
    "\n",
    "# save the cropped image\n",
    "cropped_image.save(\"F:/Microsoft VS Code/blue_2.11.jpeg\")\n"
   ]
  },
  {
   "cell_type": "code",
   "execution_count": 36,
   "metadata": {},
   "outputs": [],
   "source": [
    "from PIL import Image\n",
    "\n",
    "# Open the image file\n",
    "image = Image.open('C:/Users/jithu/Desktop/pde4434/images/Test.jpeg')\n",
    "\n",
    "# Resize the image to a general size of 500 x 500 pixels\n",
    "general_size = (500, 500)\n",
    "resized_image = image.resize(general_size)\n",
    "\n",
    "# Save the resized image to a new file\n",
    "resized_image.save('F:/Microsoft VS Code/blue_2.11.jpeg')\n"
   ]
  },
  {
   "cell_type": "code",
   "execution_count": 37,
   "metadata": {},
   "outputs": [
    {
     "name": "stdout",
     "output_type": "stream",
     "text": [
      "0 : [ 1 -1 -1 -1]\n",
      "length:  11\n",
      "perimeter:  11.41421353816986\n",
      "approx corners:  5\n",
      "1 : [-1  0  2 -1]\n",
      "length:  845\n",
      "perimeter:  865.2964633703232\n",
      "approx corners:  37\n",
      "2 : [ 3 -1 -1  1]\n",
      "length:  24\n",
      "perimeter:  28.97056245803833\n",
      "approx corners:  13\n",
      "3 : [ 4  2 -1  1]\n",
      "length:  35\n",
      "perimeter:  39.55634891986847\n",
      "approx corners:  13\n",
      "4 : [ 5  3 -1  1]\n",
      "length:  76\n",
      "perimeter:  86.76955199241638\n",
      "approx corners:  30\n",
      "5 : [-1  4 -1  1]\n",
      "length:  254\n",
      "perimeter:  297.0782079696655\n",
      "approx corners:  135\n"
     ]
    },
    {
     "data": {
      "text/plain": [
       "-1"
      ]
     },
     "execution_count": 37,
     "metadata": {},
     "output_type": "execute_result"
    }
   ],
   "source": [
    "import cv2\n",
    "import numpy as np\n",
    "\n",
    "img_colour = cv2.imread('F:/Microsoft VS Code/blue_2.11.jpeg')   # open the saved image in colour\n",
    "img = cv2.cvtColor(img_colour, cv2.COLOR_BGR2GRAY)   # convert to B/W\n",
    "img_sm = cv2.blur(img, (5, 5))         # smoothing\n",
    "thr_value, img_th = cv2.threshold(img_sm, 110, 255, cv2.THRESH_BINARY)   # binarisation\n",
    "kernel = np.ones((5, 5), np.uint8)\n",
    "img_close = cv2.morphologyEx(img_th, cv2.MORPH_OPEN, kernel)      # morphology correction\n",
    "img_canny = cv2.Canny(img_close, 50, 200)                          # edge detection\n",
    "contours, hierarchy = cv2.findContours(img_close, cv2.RETR_TREE, cv2.CHAIN_APPROX_NONE)   # extract contours on binarised image, not on canny\n",
    "    # paint contours on top of original coloured mage\n",
    "cv2.imshow('picture', img_colour)\n",
    "cv2.imshow('threshold', img_th)\n",
    "cv2.imwrite('threshold.png', img_th)\n",
    "cv2.imshow('contours', img_canny)\n",
    "\n",
    "imgc = cv2.imread('F:/Microsoft VS Code/blue_2.11.jpeg')    # open the saved image in colour \n",
    "max_area = 0\n",
    "max_contour = None\n",
    "for i, c in enumerate(contours):         # loop through all the found contours\n",
    "    print(i, ':', hierarchy[0, i])          # display contour hierarchy\n",
    "    print('length: ', len(c))               # display numbr of points in contour c\n",
    "    area = cv2.contourArea(c)\n",
    "    if area > max_area:\n",
    "        max_area = area\n",
    "        max_contour = c\n",
    "    perimeter = cv2.arcLength(c, True)     # perimeter of contour c (curved length)\n",
    "    print('perimeter: ', perimeter)               \n",
    "    epsilon = 0.001*perimeter    # parameter of polygon approximation: smaller values provide more vertices\n",
    "    vertex_approx = len(cv2.approxPolyDP(c, epsilon, True))     # approximate with polygon\n",
    "    print('approx corners: ', vertex_approx)                    # number of vertices\n",
    "\n",
    "    cv2.putText(imgc, str(i), (c[0, 0, 0]+20, c[0, 0, 1]+30), cv2.FONT_HERSHEY_DUPLEX, 1, (0, 0, 255))    # identify contour c\n",
    "    if vertex_approx == 4:  # if the contour has only 4 vertices\n",
    "        x,y,w,h = cv2.boundingRect(c)  # get the bounding rectangle of the contour\n",
    "        cv2.rectangle(imgc, (x,y), (x+w,y+h), (0, 0, 255), 2)  # draw a red rectangle around the contour\n",
    "\n",
    "if max_contour is not None:\n",
    "    x,y,w,h = cv2.boundingRect(max_contour)  # get the bounding rectangle of the contour\n",
    "    contour_img = img_colour[y:y+h, x:x+w]  # crop the contour from the original image\n",
    "    cv2.imwrite('C:/Users/jithu/Desktop/pde4434/images/Test1.jpeg', contour_img)  # save the contour as a separate image\n",
    "\n",
    "cv2.namedWindow('picture', cv2.WINDOW_NORMAL)\n",
    "cv2.imshow('picture',imgc)\n",
    "key = cv2.waitKey(0)\n",
    "cv2.destroyAllWindows()\n",
    "cv2.waitKey(1)\n"
   ]
  }
 ],
 "metadata": {
  "kernelspec": {
   "display_name": "Python 3",
   "language": "python",
   "name": "python3"
  },
  "language_info": {
   "codemirror_mode": {
    "name": "ipython",
    "version": 3
   },
   "file_extension": ".py",
   "mimetype": "text/x-python",
   "name": "python",
   "nbconvert_exporter": "python",
   "pygments_lexer": "ipython3",
   "version": "3.7.3"
  },
  "orig_nbformat": 4
 },
 "nbformat": 4,
 "nbformat_minor": 2
}
