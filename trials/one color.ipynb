{
 "cells": [
  {
   "cell_type": "code",
   "execution_count": 2,
   "metadata": {},
   "outputs": [
    {
     "data": {
      "text/plain": [
       "-1"
      ]
     },
     "execution_count": 2,
     "metadata": {},
     "output_type": "execute_result"
    }
   ],
   "source": [
    "import cv2\n",
    "import numpy as np\n",
    "\n",
    "img_colour = cv2.imread('F:/Microsoft VS Code/blue_2.11.jpeg')   # open the saved image in colour\n",
    "img = cv2.cvtColor(img_colour, cv2.COLOR_BGR2GRAY)   # convert to B/W\n",
    "img_sm = cv2.blur(img, (5, 5))         # smoothing\n",
    "thr_value, img_th = cv2.threshold(img_sm, 110, 255, cv2.THRESH_BINARY)   # binarisation\n",
    "kernel = np.ones((5, 5), np.uint8)\n",
    "img_close = cv2.morphologyEx(img_th, cv2.MORPH_OPEN, kernel)      # morphology correction\n",
    "img_canny = cv2.Canny(img_close, 50, 200)                          # edge detection\n",
    "contours, hierarchy = cv2.findContours(img_close, cv2.RETR_TREE, cv2.CHAIN_APPROX_NONE)   # extract contours on binarised image, not on canny\n",
    "\n",
    "# paint contours on top of original coloured mage\n",
    "cv2.imshow('picture', img_colour)\n",
    "cv2.imshow('threshold', img_th)\n",
    "cv2.imwrite('threshold.png', img_th)\n",
    "cv2.imshow('contours', img_canny)\n",
    "\n",
    "# initialize variables to track the biggest contour other than parent image\n",
    "biggest_contour_area = 0\n",
    "biggest_contour_idx = -1\n",
    "\n",
    "for i, c in enumerate(contours):\n",
    "    if i == 0:  # skip the parent contour\n",
    "        continue\n",
    "\n",
    "    area = cv2.contourArea(c)\n",
    "    if area > biggest_contour_area:\n",
    "        biggest_contour_area = area\n",
    "        biggest_contour_idx = i\n",
    "\n",
    "# crop the biggest contour other than parent image and rotate it by 90 degrees\n",
    "if biggest_contour_idx != -1:\n",
    "    c = contours[biggest_contour_idx]\n",
    "    x,y,w,h = cv2.boundingRect(c)\n",
    "    contour_img = img_colour[y:y+h, x:x+w]\n",
    "\n",
    "    # rotate the image by 90 degrees\n",
    "    contour_img_rotated = cv2.rotate(contour_img, cv2.ROTATE_90_CLOCKWISE)\n",
    "\n",
    "    cv2.imwrite('biggest_contour.png', contour_img_rotated)\n",
    "\n",
    "cv2.namedWindow('picture', cv2.WINDOW_NORMAL)\n",
    "cv2.imshow('picture', img_colour)\n",
    "key = cv2.waitKey(0)\n",
    "cv2.destroyAllWindows()\n",
    "cv2.waitKey(1)\n"
   ]
  },
  {
   "cell_type": "code",
   "execution_count": 6,
   "metadata": {},
   "outputs": [
    {
     "data": {
      "text/plain": [
       "-1"
      ]
     },
     "execution_count": 6,
     "metadata": {},
     "output_type": "execute_result"
    }
   ],
   "source": [
    "import cv2\n",
    "import numpy as np\n",
    "\n",
    "img_colour = cv2.imread('F:/Microsoft VS Code/biggest_contour.png')   # open the saved image in colour\n",
    "img = cv2.cvtColor(img_colour, cv2.COLOR_BGR2GRAY)   # convert to B/W\n",
    "img_sm = cv2.blur(img, (5, 5))         # smoothing\n",
    "thr_value, img_th = cv2.threshold(img_sm, 110, 255, cv2.THRESH_BINARY)   # binarisation\n",
    "kernel = np.ones((5, 5), np.uint8)\n",
    "img_close = cv2.morphologyEx(img_th, cv2.MORPH_OPEN, kernel)      # morphology correction\n",
    "img_canny = cv2.Canny(img_close, 50, 200)                          # edge detection\n",
    "contours, hierarchy = cv2.findContours(img_close, cv2.RETR_TREE, cv2.CHAIN_APPROX_NONE)   # extract contours on binarised image, not on canny\n",
    "# paint contours on top of original coloured mage\n",
    "cv2.imshow('picture', img_colour)\n",
    "cv2.imshow('threshold', img_th)\n",
    "cv2.imwrite('threshold.png', img_th)\n",
    "cv2.imshow('contours', img_canny)\n",
    "\n",
    "biggest_contour = None\n",
    "max_contour_area = 0\n",
    "\n",
    "for i, c in enumerate(contours):\n",
    "    # loop through all the contours and save the biggest one\n",
    "    area = cv2.contourArea(c)\n",
    "    if area > max_contour_area:\n",
    "        biggest_contour = c\n",
    "        max_contour_area = area\n",
    "\n",
    "if biggest_contour is not None:\n",
    "    rect = cv2.minAreaRect(biggest_contour)  # get the minimum bounding rectangle\n",
    "    box = cv2.boxPoints(rect)  # get the corner points of the rectangle\n",
    "    box = np.int0(box)\n",
    "\n",
    "    # Get the width and height of the rectangle\n",
    "    w = int(rect[1][0])\n",
    "    h = int(rect[1][1])\n",
    "\n",
    "    # Get the center point of the rectangle\n",
    "    center = (int(rect[0][0]), int(rect[0][1]))\n",
    "\n",
    "    # Crop the image around the center of the rectangle with the same width and height\n",
    "    x1 = int(center[0] - w / 2)\n",
    "    x2 = int(center[0] + w / 2)\n",
    "    y1 = int(center[1] - h / 2)\n",
    "    y2 = int(center[1] + h / 2)\n",
    "    square_img = img_colour[y1:y2, x1:x2]\n",
    "\n",
    "\n",
    "\n",
    "    # Save the image\n",
    "    cv2.imwrite('F:/Microsoft VS Code/center_square.png', square_img)\n",
    "\n",
    "cv2.namedWindow('picture', cv2.WINDOW_NORMAL)\n",
    "cv2.imshow('picture', img_colour)\n",
    "key = cv2.waitKey(0)\n",
    "cv2.destroyAllWindows()\n",
    "cv2.waitKey(1)\n"
   ]
  },
  {
   "cell_type": "code",
   "execution_count": 9,
   "metadata": {},
   "outputs": [
    {
     "name": "stdout",
     "output_type": "stream",
     "text": [
      "0 : [-1 -1  1 -1]\n",
      "length:  811\n",
      "perimeter:  833.7817445993423\n",
      "approx corners:  41\n",
      "1 : [ 2 -1 -1  0]\n",
      "length:  146\n",
      "perimeter:  166.71067690849304\n",
      "approx corners:  70\n",
      "2 : [ 3  1 -1  0]\n",
      "length:  131\n",
      "perimeter:  154.61017167568207\n",
      "approx corners:  106\n",
      "3 : [ 4  2 -1  0]\n",
      "length:  4\n",
      "perimeter:  5.656854152679443\n",
      "approx corners:  4\n",
      "4 : [-1  3 -1  0]\n",
      "length:  250\n",
      "perimeter:  284.7939372062683\n",
      "approx corners:  116\n"
     ]
    },
    {
     "data": {
      "text/plain": [
       "-1"
      ]
     },
     "execution_count": 9,
     "metadata": {},
     "output_type": "execute_result"
    }
   ],
   "source": [
    "import cv2\n",
    "import numpy as np\n",
    "\n",
    "img_colour = cv2.imread('F:/Microsoft VS Code/biggest_contour.png')   # open the saved image in colour\n",
    "img = cv2.cvtColor(img_colour, cv2.COLOR_BGR2GRAY)   # convert to B/W\n",
    "img_sm = cv2.blur(img, (5, 5))         # smoothing\n",
    "thr_value, img_th = cv2.threshold(img_sm, 110, 255, cv2.THRESH_BINARY)   # binarisation\n",
    "kernel = np.ones((5, 5), np.uint8)\n",
    "img_close = cv2.morphologyEx(img_th, cv2.MORPH_OPEN, kernel)      # morphology correction\n",
    "img_canny = cv2.Canny(img_close, 50, 200)                          # edge detection\n",
    "contours, hierarchy = cv2.findContours(img_close, cv2.RETR_TREE, cv2.CHAIN_APPROX_NONE)   # extract contours on binarised image, not on canny\n",
    "    # paint contours on top of original coloured mage\n",
    "cv2.imshow('picture', img_colour)\n",
    "cv2.imshow('threshold', img_th)\n",
    "cv2.imwrite('threshold.png', img_th)\n",
    "cv2.imshow('contours', img_canny)\n",
    "\n",
    "imgc = cv2.imread('F:/Microsoft VS Code/biggest_contour.png')    # open the saved image in colour \n",
    "max_area = 0\n",
    "max_contour = None\n",
    "for i, c in enumerate(contours):         # loop through all the found contours\n",
    "    print(i, ':', hierarchy[0, i])          # display contour hierarchy\n",
    "    print('length: ', len(c))               # display numbr of points in contour c\n",
    "    area = cv2.contourArea(c)\n",
    "    if area > max_area:\n",
    "        max_area = area\n",
    "        max_contour = c\n",
    "    perimeter = cv2.arcLength(c, True)     # perimeter of contour c (curved length)\n",
    "    print('perimeter: ', perimeter)               \n",
    "    epsilon = 0.001*perimeter    # parameter of polygon approximation: smaller values provide more vertices\n",
    "    vertex_approx = len(cv2.approxPolyDP(c, epsilon, True))     # approximate with polygon\n",
    "    print('approx corners: ', vertex_approx)                    # number of vertices\n",
    "\n",
    "    cv2.putText(imgc, str(i), (c[0, 0, 0]+20, c[0, 0, 1]+30), cv2.FONT_HERSHEY_DUPLEX, 1, (0, 0, 255))    # identify contour c\n",
    "    if vertex_approx == 4:  # if the contour has only 4 vertices\n",
    "        x,y,w,h = cv2.boundingRect(c)  # get the bounding rectangle of the contour\n",
    "        cv2.rectangle(imgc, (x,y), (x+w,y+h), (0, 0, 255), 2)  # draw a red rectangle around the contour\n",
    "\n",
    "if max_contour is not None:\n",
    "    # fit an ellipse to the contour\n",
    "    ellipse = cv2.fitEllipse(max_contour)\n",
    "    # draw the ellipse on the original image\n",
    "    cv2.ellipse(img_colour, ellipse, (0, 255, 0), 2)\n",
    "    # crop the region bounded by the ellipse\n",
    "    x, y, w, h = cv2.boundingRect(cv2.boxPoints(ellipse))\n",
    "    ellipse_img = img_colour[y:y + h, x:x + w]\n",
    "    cv2.imwrite('F:/Microsoft VS Code/biggest_ellipse.png', ellipse_img)  # save the ellipse as a separate image\n",
    "\n",
    "cv2.namedWindow('picture', cv2.WINDOW_NORMAL)\n",
    "cv2.imshow('picture',imgc)\n",
    "key = cv2.waitKey(0)\n",
    "cv2.destroyAllWindows()\n",
    "cv2.waitKey(1)\n"
   ]
  },
  {
   "cell_type": "code",
   "execution_count": 10,
   "metadata": {},
   "outputs": [
    {
     "name": "stdout",
     "output_type": "stream",
     "text": [
      "Dominant color:  [190.03122 194.13351 197.38535]\n"
     ]
    }
   ],
   "source": [
    "import cv2\n",
    "import numpy as np\n",
    "\n",
    "# Load the biggest contour image\n",
    "img = cv2.imread('F:/Microsoft VS Code/biggest_contour.png')\n",
    "\n",
    "# Reshape the image to a 2D array of pixels\n",
    "pixel_values = img.reshape((-1, 3))\n",
    "\n",
    "# Convert the pixel values to float32\n",
    "pixel_values = np.float32(pixel_values)\n",
    "\n",
    "# Define the criteria and apply k-means clustering\n",
    "criteria = (cv2.TERM_CRITERIA_EPS + cv2.TERM_CRITERIA_MAX_ITER, 10, 1.0)\n",
    "k = 3\n",
    "retval, labels, centers = cv2.kmeans(pixel_values, k, None, criteria, 10, cv2.KMEANS_RANDOM_CENTERS)\n",
    "\n",
    "# Count the number of pixels in each cluster\n",
    "counts = np.bincount(labels.flatten())\n",
    "\n",
    "# Find the index of the cluster with the largest number of pixels\n",
    "largest_cluster_idx = np.argmax(counts)\n",
    "\n",
    "# Extract the centroid of the largest cluster\n",
    "dominant_color = centers[largest_cluster_idx]\n",
    "\n",
    "# Display the dominant color\n",
    "print(\"Dominant color: \", dominant_color)\n",
    "\n"
   ]
  },
  {
   "cell_type": "code",
   "execution_count": 21,
   "metadata": {},
   "outputs": [
    {
     "name": "stdout",
     "output_type": "stream",
     "text": [
      "The card is yellow\n"
     ]
    }
   ],
   "source": [
    "import cv2\n",
    "import numpy as np\n",
    "\n",
    "# Read the image and convert it to the HSV color space\n",
    "image = cv2.imread('C:/Users/jithu/Desktop/pde4434/images/Test1.jpeg')\n",
    "hsv_image = cv2.cvtColor(image, cv2.COLOR_BGR2HSV)\n",
    "\n",
    "# Define the color ranges for each of the cards\n",
    "color_ranges = {\n",
    "    'blue': ((90, 100, 100), (130, 255, 255)),\n",
    "    'green': ((40, 100, 100), (80, 255, 255)),\n",
    "    'yellow': ((20, 100, 100), (40, 255, 255)),\n",
    "    'red': ((0, 100, 100), (20, 255, 255))\n",
    "}\n",
    "\n",
    "# Iterate through each color range and find the pixels within that range\n",
    "for color, (lower, upper) in color_ranges.items():\n",
    "    mask = cv2.inRange(hsv_image, np.array(lower), np.array(upper))\n",
    "    count = cv2.countNonZero(mask)\n",
    "    \n",
    "    # Print the color of the card if enough pixels are detected in the range\n",
    "    if count > 100:\n",
    "        print(f\"The card is {color}\")\n",
    "        break\n"
   ]
  }
 ],
 "metadata": {
  "kernelspec": {
   "display_name": "Python 3",
   "language": "python",
   "name": "python3"
  },
  "language_info": {
   "codemirror_mode": {
    "name": "ipython",
    "version": 3
   },
   "file_extension": ".py",
   "mimetype": "text/x-python",
   "name": "python",
   "nbconvert_exporter": "python",
   "pygments_lexer": "ipython3",
   "version": "3.7.3"
  },
  "orig_nbformat": 4
 },
 "nbformat": 4,
 "nbformat_minor": 2
}
