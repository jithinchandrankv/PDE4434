{
 "cells": [
  {
   "cell_type": "code",
   "execution_count": 1,
   "metadata": {},
   "outputs": [
    {
     "data": {
      "text/plain": [
       "True"
      ]
     },
     "execution_count": 1,
     "metadata": {},
     "output_type": "execute_result"
    }
   ],
   "source": [
    "import cv2\n",
    "\n",
    "# Load the cropped image\n",
    "img = cv2.imread('C:/Users/jithu/Desktop/pde4434/images/Test1.jpeg')\n",
    "\n",
    "# Calculate the center point of the image\n",
    "height, width = img.shape[:2]\n",
    "center_x, center_y = int(width/2), int(height/2)\n",
    "\n",
    "# Determine the dimensions of the center square portion\n",
    "square_size = 100\n",
    "half_size = int(square_size/2)\n",
    "\n",
    "# Extract the center square portion\n",
    "center_square = cv2.getRectSubPix(img, (square_size, square_size), (center_x, center_y))\n",
    "\n",
    "# Create a new image\n",
    "cv2.imwrite('C:/Users/jithu/Desktop/pde4434/images/center_square.jpg', center_square)\n"
   ]
  }
 ],
 "metadata": {
  "kernelspec": {
   "display_name": "Python 3",
   "language": "python",
   "name": "python3"
  },
  "language_info": {
   "codemirror_mode": {
    "name": "ipython",
    "version": 3
   },
   "file_extension": ".py",
   "mimetype": "text/x-python",
   "name": "python",
   "nbconvert_exporter": "python",
   "pygments_lexer": "ipython3",
   "version": "3.7.3"
  },
  "orig_nbformat": 4
 },
 "nbformat": 4,
 "nbformat_minor": 2
}
