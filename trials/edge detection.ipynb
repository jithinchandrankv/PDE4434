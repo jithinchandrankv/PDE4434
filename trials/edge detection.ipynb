{
 "cells": [
  {
   "cell_type": "code",
   "execution_count": 1,
   "metadata": {},
   "outputs": [
    {
     "name": "stdout",
     "output_type": "stream",
     "text": [
      "0 : [ 1 -1 -1 -1]\n",
      "length:  81\n",
      "perimeter:  85.55634891986847\n",
      "approx corners:  25\n",
      "1 : [ 2  0 -1 -1]\n",
      "length:  20\n",
      "perimeter:  20.0\n",
      "approx corners:  4\n",
      "2 : [ 3  1 -1 -1]\n",
      "length:  116\n",
      "perimeter:  132.56854152679443\n",
      "approx corners:  45\n",
      "3 : [11  2  4 -1]\n",
      "length:  505\n",
      "perimeter:  524.4680362939835\n",
      "approx corners:  73\n",
      "4 : [ 5 -1 -1  3]\n",
      "length:  20\n",
      "perimeter:  21.656854152679443\n",
      "approx corners:  8\n",
      "5 : [ 6  4 -1  3]\n",
      "length:  277\n",
      "perimeter:  310.5512965917587\n",
      "approx corners:  98\n",
      "6 : [ 7  5 -1  3]\n",
      "length:  248\n",
      "perimeter:  281.9655101299286\n",
      "approx corners:  151\n",
      "7 : [-1  6  8  3]\n",
      "length:  254\n",
      "perimeter:  283.82337474823\n",
      "approx corners:  72\n",
      "8 : [ 9 -1 -1  7]\n",
      "length:  18\n",
      "perimeter:  18.0\n",
      "approx corners:  4\n",
      "9 : [10  8 -1  7]\n",
      "length:  18\n",
      "perimeter:  18.0\n",
      "approx corners:  4\n",
      "10 : [-1  9 -1  7]\n",
      "length:  19\n",
      "perimeter:  19.41421353816986\n",
      "approx corners:  5\n",
      "11 : [-1  3 -1 -1]\n",
      "length:  1016\n",
      "perimeter:  1049.1370830535889\n",
      "approx corners:  32\n"
     ]
    },
    {
     "data": {
      "text/plain": [
       "-1"
      ]
     },
     "execution_count": 1,
     "metadata": {},
     "output_type": "execute_result"
    }
   ],
   "source": [
    "import cv2\n",
    "import numpy as np\n",
    "\n",
    "img_colour = cv2.imread('F:/Microsoft VS Code/blue_uno_card.png')   # open the saved image in colour\n",
    "img = cv2.cvtColor(img_colour, cv2.COLOR_BGR2GRAY)   # convert to B/W\n",
    "img_sm = cv2.blur(img, (5, 5))         # smoothing\n",
    "thr_value, img_th = cv2.threshold(img_sm, 110, 255, cv2.THRESH_BINARY)   # binarisation\n",
    "kernel = np.ones((5, 5), np.uint8)\n",
    "img_close = cv2.morphologyEx(img_th, cv2.MORPH_OPEN, kernel)      # morphology correction\n",
    "img_canny = cv2.Canny(img_close, 50, 200)                          # edge detection\n",
    "contours, hierarchy = cv2.findContours(img_close, cv2.RETR_TREE, cv2.CHAIN_APPROX_NONE)   # extract contours on binarised image, not on canny\n",
    "cv2.drawContours(img_colour, contours, -1, (0, 255, 0), 3)         # paint contours on top of original coloured mage\n",
    "cv2.imshow('picture', img_colour)\n",
    "cv2.imshow('threshold', img_th)\n",
    "cv2.imwrite('threshold.png', img_th)\n",
    "cv2.imshow('contours', img_canny)\n",
    "\n",
    "imgc = cv2.imread('F:/Microsoft VS Code/blue_uno_card.png')    # open the saved image in colour \n",
    "for i, c in enumerate(contours):         # loop through all the found contours\n",
    "    print(i, ':', hierarchy[0, i])          # display contour hierarchy\n",
    "    print('length: ', len(c))               # display numbr of points in contour c\n",
    "    perimeter = cv2.arcLength(c, True)     # perimeter of contour c (curved length)\n",
    "    print('perimeter: ', perimeter)               \n",
    "    epsilon = 0.001*perimeter    # parameter of polygon approximation: smaller values provide more vertices\n",
    "    vertex_approx = len(cv2.approxPolyDP(c, epsilon, True))     # approximate with polygon\n",
    "    print('approx corners: ', vertex_approx)                    # number of vertices\n",
    "    cv2.drawContours(imgc, [c], 0, (0, 255, 0), 3)   # paint contour c\n",
    "    cv2.putText(imgc, str(i), (c[0, 0, 0]+20, c[0, 0, 1]+30), cv2.FONT_HERSHEY_DUPLEX, 1, (0, 0, 255))    # identify contour c\n",
    "    if vertex_approx == 4:  # if the contour has only 4 vertices\n",
    "        x,y,w,h = cv2.boundingRect(c)  # get the bounding rectangle of the contour\n",
    "        cv2.rectangle(imgc, (x,y), (x+w,y+h), (0, 0, 255), 2)  # draw a red rectangle around the contour\n",
    "        cv2.imwrite('contour_4_edges.png', imgc[y:y+h, x:x+w])\n",
    "\n",
    "        # loop through all the contours and save the big ones as separate images\n",
    "# loop through all the contours and save the big ones as separate images\n",
    "for i, c in enumerate(contours):\n",
    "    if cv2.contourArea(c) >2500:  # if the contour area is larger than 500\n",
    "        x,y,w,h = cv2.boundingRect(c)  # get the bounding rectangle of the contour\n",
    "        contour_img = img_colour[y:y+h, x:x+w]  # crop the contour from the original image\n",
    "\n",
    "        # save the contour as a separate image\n",
    "        cv2.imwrite(f'contour_{i}.png', contour_img)\n",
    "\n",
    "\n",
    "\n",
    "cv2.namedWindow('picture', cv2.WINDOW_NORMAL)\n",
    "cv2.imshow('picture',imgc)\n",
    "key = cv2.waitKey(0)\n",
    "cv2.destroyAllWindows()\n",
    "cv2.waitKey(1)"
   ]
  }
 ],
 "metadata": {
  "kernelspec": {
   "display_name": "Python 3",
   "language": "python",
   "name": "python3"
  },
  "language_info": {
   "codemirror_mode": {
    "name": "ipython",
    "version": 3
   },
   "file_extension": ".py",
   "mimetype": "text/x-python",
   "name": "python",
   "nbconvert_exporter": "python",
   "pygments_lexer": "ipython3",
   "version": "3.7.3"
  },
  "orig_nbformat": 4
 },
 "nbformat": 4,
 "nbformat_minor": 2
}
